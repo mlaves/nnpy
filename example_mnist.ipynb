{
 "cells": [
  {
   "cell_type": "code",
   "execution_count": 1,
   "metadata": {},
   "outputs": [],
   "source": [
    "import numpy as np\n",
    "import nnpy"
   ]
  },
  {
   "cell_type": "code",
   "execution_count": 2,
   "metadata": {},
   "outputs": [],
   "source": [
    "# create network\n",
    "net = [\n",
    "    nnpy.Flatten(keep_channels=True),\n",
    "    nnpy.Linear(28*28, 128),\n",
    "    nnpy.ReLU(),\n",
    "    nnpy.BatchNorm(1),\n",
    "    nnpy.Linear(128, 64),\n",
    "    nnpy.Sigmoid(),\n",
    "    nnpy.Flatten(),\n",
    "    nnpy.Linear(64, 10)\n",
    "]"
   ]
  },
  {
   "cell_type": "code",
   "execution_count": 3,
   "metadata": {},
   "outputs": [
    {
     "data": {
      "text/plain": [
       "[<nnpy.layers.Flatten at 0x10ae30b38>,\n",
       " <nnpy.layers.Linear at 0x10ae30ba8>,\n",
       " <nnpy.activations.ReLU at 0x10ae30c18>,\n",
       " <nnpy.layers.BatchNorm at 0x10ae30c88>,\n",
       " <nnpy.layers.Linear at 0x10ae30be0>,\n",
       " <nnpy.activations.Sigmoid at 0x10ae30cc0>,\n",
       " <nnpy.layers.Flatten at 0x10ae30cf8>,\n",
       " <nnpy.layers.Linear at 0x10ae30d30>]"
      ]
     },
     "execution_count": 3,
     "metadata": {},
     "output_type": "execute_result"
    }
   ],
   "source": [
    "net"
   ]
  },
  {
   "cell_type": "code",
   "execution_count": 4,
   "metadata": {},
   "outputs": [],
   "source": [
    "# create loss function\n",
    "criterion = nnpy.CrossEntropy()\n",
    "\n",
    "# create optimizer\n",
    "sgd = nnpy.SGD(net, learn_rate=0.01, momentum=0.01)"
   ]
  },
  {
   "cell_type": "code",
   "execution_count": 5,
   "metadata": {},
   "outputs": [
    {
     "name": "stderr",
     "output_type": "stream",
     "text": [
      "Using TensorFlow backend.\n"
     ]
    }
   ],
   "source": [
    "from keras.datasets import mnist\n",
    "\n",
    "# create data\n",
    "(X_train, y_train), (X_test, y_test) = mnist.load_data()\n",
    "\n",
    "# normalize\n",
    "X_train = X_train.astype(np.float32) / 255\n",
    "X_test = X_test.astype(np.float32) / 255\n",
    "\n",
    "# make 4d\n",
    "X_train = np.expand_dims(X_train, axis=1)\n",
    "X_test = np.expand_dims(X_test, axis=1)"
   ]
  },
  {
   "cell_type": "code",
   "execution_count": 6,
   "metadata": {},
   "outputs": [],
   "source": [
    "def train():\n",
    "    epoch_loss = []\n",
    "    epoch_predictions = []\n",
    "    epoch_labels = []\n",
    "\n",
    "    nnpy.set_train(net)\n",
    "\n",
    "    for x_batch, y_batch in nnpy.dataloader(X_train, y_train, batchsize=128, shuffle=True):\n",
    "        logits = nnpy.forward(net, x_batch)\n",
    "        loss_value = criterion.forward(logits, y_batch).mean()\n",
    "        nnpy.backward(net, criterion)\n",
    "        sgd.step()\n",
    "\n",
    "        epoch_loss.append(loss_value)\n",
    "        epoch_predictions.append(np.argmax(logits, axis=-1))\n",
    "        epoch_labels.append(y_batch)\n",
    "\n",
    "    epoch_predictions = np.array(epoch_predictions).flatten()\n",
    "    epoch_labels = np.array(epoch_labels).flatten()\n",
    "\n",
    "    return epoch_loss, epoch_predictions, epoch_labels"
   ]
  },
  {
   "cell_type": "code",
   "execution_count": 7,
   "metadata": {},
   "outputs": [],
   "source": [
    "def test():\n",
    "    epoch_loss = []\n",
    "    epoch_predictions = []\n",
    "    epoch_labels = []\n",
    "\n",
    "    nnpy.set_eval(net)\n",
    "\n",
    "    for x_batch, y_batch in nnpy.dataloader(X_test, y_test, batchsize=128, shuffle=False):\n",
    "        logits = nnpy.forward(net, x_batch)\n",
    "        loss_value = criterion.forward(logits, y_batch).mean()\n",
    "        nnpy.backward(net, criterion)\n",
    "        sgd.step()\n",
    "\n",
    "        epoch_loss.append(loss_value)\n",
    "        epoch_predictions.append(np.argmax(logits, axis=-1))\n",
    "        epoch_labels.append(y_batch)\n",
    "\n",
    "    epoch_predictions = np.array(epoch_predictions).flatten()\n",
    "    epoch_labels = np.array(epoch_labels).flatten()\n",
    "\n",
    "    return epoch_loss, epoch_predictions, epoch_labels"
   ]
  },
  {
   "cell_type": "code",
   "execution_count": 8,
   "metadata": {},
   "outputs": [
    {
     "name": "stdout",
     "output_type": "stream",
     "text": [
      "epoch:   0, train loss: 2.2938, train acc: 0.1138, test loss: 2.2680, test acc: 0.1352\n",
      "epoch:   1, train loss: 2.0723, train acc: 0.3539, test loss: 1.6417, test acc: 0.5170\n",
      "epoch:   2, train loss: 1.3242, train acc: 0.6013, test loss: 1.1175, test acc: 0.6638\n",
      "epoch:   3, train loss: 1.1360, train acc: 0.6657, test loss: 1.0251, test acc: 0.6934\n",
      "epoch:   4, train loss: 0.9824, train acc: 0.7010, test loss: 0.9103, test acc: 0.7290\n",
      "epoch:   5, train loss: 0.8856, train acc: 0.7306, test loss: 0.8303, test acc: 0.7518\n",
      "epoch:   6, train loss: 0.8147, train acc: 0.7532, test loss: 0.7745, test acc: 0.7682\n",
      "epoch:   7, train loss: 0.7620, train acc: 0.7688, test loss: 0.7277, test acc: 0.7812\n",
      "epoch:   8, train loss: 0.7222, train acc: 0.7807, test loss: 0.6917, test acc: 0.7934\n",
      "epoch:   9, train loss: 0.6890, train acc: 0.7922, test loss: 0.6625, test acc: 0.8014\n"
     ]
    }
   ],
   "source": [
    "epochs = 10\n",
    "for e in range(epochs):\n",
    "\n",
    "    epoch_loss_train, epoch_predictions_train, epoch_labels_train = train()\n",
    "    epoch_loss_test, epoch_predictions_test, epoch_labels_test = test()\n",
    "\n",
    "    print(f\"epoch: {e:3d},\",\n",
    "          f\"train loss: {np.mean(epoch_loss_train):.4f},\",\n",
    "          f\"train acc: {nnpy.accuracy(epoch_predictions_train, epoch_labels_train):.4f},\",\n",
    "          f\"test loss: {np.mean(epoch_loss_test):.4f},\",\n",
    "          f\"test acc: {nnpy.accuracy(epoch_predictions_test, epoch_labels_test):.4f}\"\n",
    "          )"
   ]
  },
  {
   "cell_type": "code",
   "execution_count": null,
   "metadata": {},
   "outputs": [],
   "source": []
  }
 ],
 "metadata": {
  "kernelspec": {
   "display_name": "Python 3",
   "language": "python",
   "name": "python3"
  },
  "language_info": {
   "codemirror_mode": {
    "name": "ipython",
    "version": 3
   },
   "file_extension": ".py",
   "mimetype": "text/x-python",
   "name": "python",
   "nbconvert_exporter": "python",
   "pygments_lexer": "ipython3",
   "version": "3.7.3"
  }
 },
 "nbformat": 4,
 "nbformat_minor": 2
}
